{
 "cells": [
  {
   "cell_type": "code",
   "execution_count": 1,
   "id": "84effc0c",
   "metadata": {},
   "outputs": [
    {
     "name": "stdout",
     "output_type": "stream",
     "text": [
      "['a', 'b', 'c', 'd', 'e', 'f', 'g', 'h', 'i', 'k', 'l', 'm', 'n', 'o', 'p', 'q', 'r', 's', 't', 'u', 'v', 'w', 'x', 'y']\n"
     ]
    }
   ],
   "source": [
    "import os\n",
    "import numpy as np\n",
    "import pandas as pd\n",
    "labels = os.listdir('dataset/')\n",
    "print(labels)"
   ]
  },
  {
   "cell_type": "code",
   "execution_count": 2,
   "id": "9fa41c5b",
   "metadata": {},
   "outputs": [],
   "source": [
    "#how many images in each folder and which label belong to which alphabet\n",
    "num = []\n",
    "for label in labels:\n",
    "    path = 'dataset/{0}/'.format(label)\n",
    "    num += [len(os.listdir(path))]"
   ]
  },
  {
   "cell_type": "code",
   "execution_count": 3,
   "id": "ac861cd9",
   "metadata": {},
   "outputs": [
    {
     "data": {
      "image/png": "[encoded data removed]",
      "text/plain": [
       "<Figure size 576x576 with 1 Axes>"
      ]
     },
     "metadata": {
      "needs_background": "light"
     },
     "output_type": "display_data"
    }
   ],
   "source": [
    "import matplotlib.pyplot as plt\n",
    "plt.figure(figsize = (8,8))\n",
    "plt.bar(labels, num)\n",
    "plt.title('NUMBER OF IMAGES CONTAINED IN EACH CLASS')\n",
    "plt.xlabel('classes')\n",
    "plt.ylabel('count')\n",
    "plt.show()"
   ]
  },
  {
   "cell_type": "code",
   "execution_count": 4,
   "id": "cebf6063",
   "metadata": {},
   "outputs": [],
   "source": [
    "import cv2\n",
    "import os\n",
    "\n",
    "path = 'dataset/{0}/'\n",
    "\n",
    "data2 = \\\n",
    "[(cv2.resize(cv2.imread(path.format(label)+img_path), (64, 64)), label) \\\n",
    " for label in labels \\\n",
    " for img_path in os.listdir(path.format(label))]\n",
    "\n",
    "X_raw, y = zip(*data2)\n",
    "\n",
    "X_raw, y = zip(*data2)\n",
    "X_raw, y = list(X_raw), list(y)"
   ]
  },
  {
   "cell_type": "code",
   "execution_count": 5,
   "id": "295228bb",
   "metadata": {},
   "outputs": [
    {
     "data": {
      "text/plain": [
       "(1675, 64, 64, 3)"
      ]
     },
     "execution_count": 5,
     "metadata": {},
     "output_type": "execute_result"
    }
   ],
   "source": [
    "X_raw = np.array(X_raw)\n",
    "X_raw.shape"
   ]
  },
  {
   "cell_type": "code",
   "execution_count": 6,
   "id": "99124e6e",
   "metadata": {
    "scrolled": false
   },
   "outputs": [
    {
     "name": "stdout",
     "output_type": "stream",
     "text": [
      "the shape of X is:  (1675, 64, 64, 3) and that of Y is:  (1675,)\n"
     ]
    }
   ],
   "source": [
    "X_raw, y = np.array(X_raw), np.array(y)\n",
    "print('the shape of X is: ', X_raw.shape, 'and that of Y is: ', y.shape)"
   ]
  },
  {
   "cell_type": "code",
   "execution_count": 7,
   "id": "7c57219a",
   "metadata": {},
   "outputs": [],
   "source": [
    "X = X_raw.astype(np.float32)/255"
   ]
  },
  {
   "cell_type": "code",
   "execution_count": 8,
   "id": "1d34e9f6",
   "metadata": {},
   "outputs": [],
   "source": [
    "#converting the y_data into categorical:\n",
    "from sklearn.preprocessing import LabelEncoder\n",
    "y = LabelEncoder().fit_transform(y)"
   ]
  },
  {
   "cell_type": "code",
   "execution_count": 9,
   "id": "4507f7e8",
   "metadata": {},
   "outputs": [
    {
     "data": {
      "text/plain": [
       "array([ 0,  0,  0, ..., 23, 23, 23], dtype=int64)"
      ]
     },
     "execution_count": 9,
     "metadata": {},
     "output_type": "execute_result"
    }
   ],
   "source": [
    "y"
   ]
  },
  {
   "cell_type": "code",
   "execution_count": 10,
   "id": "c7ef0dc0",
   "metadata": {},
   "outputs": [],
   "source": [
    "from keras.utils import to_categorical\n",
    "y_categorical = to_categorical(y)"
   ]
  },
  {
   "cell_type": "code",
   "execution_count": 11,
   "id": "30888429",
   "metadata": {},
   "outputs": [
    {
     "data": {
      "text/plain": [
       "array([[1., 0., 0., ..., 0., 0., 0.],\n",
       "       [1., 0., 0., ..., 0., 0., 0.],\n",
       "       [1., 0., 0., ..., 0., 0., 0.],\n",
       "       ...,\n",
       "       [0., 0., 0., ..., 0., 0., 1.],\n",
       "       [0., 0., 0., ..., 0., 0., 1.],\n",
       "       [0., 0., 0., ..., 0., 0., 1.]], dtype=float32)"
      ]
     },
     "execution_count": 11,
     "metadata": {},
     "output_type": "execute_result"
    }
   ],
   "source": [
    "y_categorical"
   ]
  },
  {
   "cell_type": "code",
   "execution_count": 12,
   "id": "07fbc7e8",
   "metadata": {},
   "outputs": [],
   "source": [
    "from sklearn.model_selection import train_test_split\n",
    "X_train, X_test, y_train, y_test = train_test_split(X, y_categorical, \n",
    "                                                    test_size = 0.3, \n",
    "                                                    shuffle=True)"
   ]
  },
  {
   "cell_type": "code",
   "execution_count": 13,
   "id": "d72b6821",
   "metadata": {},
   "outputs": [],
   "source": [
    "from keras.models import Sequential\n",
    "from keras.layers import Conv2D, MaxPooling2D, Dense, Dropout, Flatten, BatchNormalization"
   ]
  },
  {
   "cell_type": "markdown",
   "id": "3e8365eb",
   "metadata": {},
   "source": [
    "# use pretrained VGG 19 "
   ]
  },
  {
   "cell_type": "code",
   "execution_count": 14,
   "id": "bf7353ce",
   "metadata": {},
   "outputs": [],
   "source": [
    "from keras.models import Model\n",
    "from keras.applications.vgg19 import VGG19\n",
    "\n",
    "img_height = 64\n",
    "img_width = 64\n",
    "img_channels = 3\n",
    "\n",
    "base = VGG19(include_top = False, weights='imagenet', input_shape = (img_height, img_width, img_channels))\n",
    "\n",
    "def build_model():\n",
    "    X = base.output\n",
    "    X = Flatten()(X)\n",
    "    X = Dense(512, activation = 'relu')(X)\n",
    "    X = Dropout(0.4)(X)\n",
    "    X = BatchNormalization()(X)\n",
    "    X = Dense(512, activation = 'relu')(X)\n",
    "    X = Dropout(0.3)(X)\n",
    "    X = BatchNormalization()(X)\n",
    "    preds = Dense(24, activation = 'softmax')(X)\n",
    "    \n",
    "    model = Model(inputs = base.input, outputs = preds)\n",
    "    \n",
    "    for layer in base.layers: layer.trainable = False\n",
    "    \n",
    "    model.compile(optimizer = 'adam', loss = 'categorical_crossentropy', metrics = ['accuracy'])\n",
    "    \n",
    "    return model\n"
   ]
  },
  {
   "cell_type": "code",
   "execution_count": 15,
   "id": "57e6fbad",
   "metadata": {
    "scrolled": true
   },
   "outputs": [
    {
     "name": "stdout",
     "output_type": "stream",
     "text": [
      "Model: \"functional_1\"\n",
      "_________________________________________________________________\n",
      "Layer (type)                 Output Shape              Param #   \n",
      "=================================================================\n",
      "input_1 (InputLayer)         [(None, 64, 64, 3)]       0         \n",
      "_________________________________________________________________\n",
      "block1_conv1 (Conv2D)        (None, 64, 64, 64)        1792      \n",
      "_________________________________________________________________\n",
      "block1_conv2 (Conv2D)        (None, 64, 64, 64)        36928     \n",
      "_________________________________________________________________\n",
      "block1_pool (MaxPooling2D)   (None, 32, 32, 64)        0         \n",
      "_________________________________________________________________\n",
      "block2_conv1 (Conv2D)        (None, 32, 32, 128)       73856     \n",
      "_________________________________________________________________\n",
      "block2_conv2 (Conv2D)        (None, 32, 32, 128)       147584    \n",
      "_________________________________________________________________\n",
      "block2_pool (MaxPooling2D)   (None, 16, 16, 128)       0         \n",
      "_________________________________________________________________\n",
      "block3_conv1 (Conv2D)        (None, 16, 16, 256)       295168    \n",
      "_________________________________________________________________\n",
      "block3_conv2 (Conv2D)        (None, 16, 16, 256)       590080    \n",
      "_________________________________________________________________\n",
      "block3_conv3 (Conv2D)        (None, 16, 16, 256)       590080    \n",
      "_________________________________________________________________\n",
      "block3_conv4 (Conv2D)        (None, 16, 16, 256)       590080    \n",
      "_________________________________________________________________\n",
      "block3_pool (MaxPooling2D)   (None, 8, 8, 256)         0         \n",
      "_________________________________________________________________\n",
      "block4_conv1 (Conv2D)        (None, 8, 8, 512)         1180160   \n",
      "_________________________________________________________________\n",
      "block4_conv2 (Conv2D)        (None, 8, 8, 512)         2359808   \n",
      "_________________________________________________________________\n",
      "block4_conv3 (Conv2D)        (None, 8, 8, 512)         2359808   \n",
      "_________________________________________________________________\n",
      "block4_conv4 (Conv2D)        (None, 8, 8, 512)         2359808   \n",
      "_________________________________________________________________\n",
      "block4_pool (MaxPooling2D)   (None, 4, 4, 512)         0         \n",
      "_________________________________________________________________\n",
      "block5_conv1 (Conv2D)        (None, 4, 4, 512)         2359808   \n",
      "_________________________________________________________________\n",
      "block5_conv2 (Conv2D)        (None, 4, 4, 512)         2359808   \n",
      "_________________________________________________________________\n",
      "block5_conv3 (Conv2D)        (None, 4, 4, 512)         2359808   \n",
      "_________________________________________________________________\n",
      "block5_conv4 (Conv2D)        (None, 4, 4, 512)         2359808   \n",
      "_________________________________________________________________\n",
      "block5_pool (MaxPooling2D)   (None, 2, 2, 512)         0         \n",
      "_________________________________________________________________\n",
      "flatten (Flatten)            (None, 2048)              0         \n",
      "_________________________________________________________________\n",
      "dense (Dense)                (None, 512)               1049088   \n",
      "_________________________________________________________________\n",
      "dropout (Dropout)            (None, 512)               0         \n",
      "_________________________________________________________________\n",
      "batch_normalization (BatchNo (None, 512)               2048      \n",
      "_________________________________________________________________\n",
      "dense_1 (Dense)              (None, 512)               262656    \n",
      "_________________________________________________________________\n",
      "dropout_1 (Dropout)          (None, 512)               0         \n",
      "_________________________________________________________________\n",
      "batch_normalization_1 (Batch (None, 512)               2048      \n",
      "_________________________________________________________________\n",
      "dense_2 (Dense)              (None, 24)                12312     \n",
      "=================================================================\n",
      "Total params: 21,352,536\n",
      "Trainable params: 1,326,104\n",
      "Non-trainable params: 20,026,432\n",
      "_________________________________________________________________\n"
     ]
    }
   ],
   "source": [
    "model_vgg = build_model()\n",
    "model_vgg.summary()"
   ]
  },
  {
   "cell_type": "code",
   "execution_count": 16,
   "id": "69ca8166",
   "metadata": {},
   "outputs": [
    {
     "name": "stdout",
     "output_type": "stream",
     "text": [
      "Epoch 1/5\n",
      "30/30 [==============================] - 13s 449ms/step - loss: 2.0541 - accuracy: 0.4034 - val_loss: 1.6441 - val_accuracy: 0.7021\n",
      "Epoch 2/5\n",
      "30/30 [==============================] - 14s 456ms/step - loss: 0.8776 - accuracy: 0.7086 - val_loss: 1.0014 - val_accuracy: 0.8043\n",
      "Epoch 3/5\n",
      "30/30 [==============================] - 14s 456ms/step - loss: 0.6079 - accuracy: 0.8047 - val_loss: 0.6634 - val_accuracy: 0.9277\n",
      "Epoch 4/5\n",
      "30/30 [==============================] - 15s 485ms/step - loss: 0.5394 - accuracy: 0.8207 - val_loss: 0.5707 - val_accuracy: 0.9149\n",
      "Epoch 5/5\n",
      "30/30 [==============================] - 17s 555ms/step - loss: 0.4861 - accuracy: 0.8346 - val_loss: 0.6422 - val_accuracy: 0.9106\n"
     ]
    }
   ],
   "source": [
    "history_vgg = model_vgg.fit(X_train, y_train, epochs=5, validation_split=0.2)"
   ]
  },
  {
   "cell_type": "code",
   "execution_count": 17,
   "id": "61fd8c73",
   "metadata": {},
   "outputs": [],
   "source": [
    "# Saving the model\n",
    "model_vgg.save('my_model_vgg.h5')\n",
    "\n",
    "#print(classifier.history.keys())"
   ]
  },
  {
   "cell_type": "code",
   "execution_count": 18,
   "id": "1941ac97",
   "metadata": {},
   "outputs": [
    {
     "data": {
      "image/png": "[encoded data removed]",
      "text/plain": [
       "<Figure size 432x288 with 1 Axes>"
      ]
     },
     "metadata": {
      "needs_background": "light"
     },
     "output_type": "display_data"
    }
   ],
   "source": [
    "#Display of the accuracy and the loss values\n",
    "import matplotlib.pyplot as plt\n",
    "\n",
    "plt.figure()\n",
    "plt.plot(history_vgg.history['accuracy'], label='training accuracy')\n",
    "plt.plot(history_vgg.history['val_accuracy'], label='val accuracy')\n",
    "plt.plot(history_vgg.history['loss'], label='training loss')\n",
    "plt.plot(history_vgg.history['val_loss'], label='val loss')\n",
    "plt.title('Loss/accuracy')\n",
    "plt.xlabel('epochs')\n",
    "plt.ylabel('loss')\n",
    "plt.legend()\n",
    "plt.show()"
   ]
  },
  {
   "cell_type": "code",
   "execution_count": 19,
   "id": "a3b67d77",
   "metadata": {},
   "outputs": [],
   "source": [
    "y_pred_vgg = np.argmax(model_vgg.predict(X_test), axis=1)"
   ]
  },
  {
   "cell_type": "code",
   "execution_count": 20,
   "id": "a68827f3",
   "metadata": {},
   "outputs": [],
   "source": [
    "y_test_ = np.argmax(y_test, axis = 1)"
   ]
  },
  {
   "cell_type": "code",
   "execution_count": 21,
   "id": "760c3a83",
   "metadata": {},
   "outputs": [
    {
     "name": "stdout",
     "output_type": "stream",
     "text": [
      "the accuracy obtained on the test set is: 0.8687872763419483\n"
     ]
    }
   ],
   "source": [
    "from sklearn.metrics import accuracy_score\n",
    "print('the accuracy obtained on the test set is:', accuracy_score(y_test_, y_pred_vgg))"
   ]
  },
  {
   "cell_type": "code",
   "execution_count": 22,
   "id": "d66218cb",
   "metadata": {},
   "outputs": [
    {
     "name": "stdout",
     "output_type": "stream",
     "text": [
      "              precision    recall  f1-score   support\n",
      "\n",
      "           0       0.89      0.77      0.83        22\n",
      "           1       1.00      1.00      1.00        24\n",
      "           2       0.96      1.00      0.98        27\n",
      "           3       1.00      0.37      0.54        19\n",
      "           4       1.00      1.00      1.00        24\n",
      "           5       1.00      0.81      0.89        21\n",
      "           6       0.84      1.00      0.91        21\n",
      "           7       1.00      0.85      0.92        20\n",
      "           8       1.00      0.65      0.79        23\n",
      "           9       0.69      1.00      0.82        25\n",
      "          10       1.00      1.00      1.00        19\n",
      "          11       0.87      0.87      0.87        15\n",
      "          12       0.59      0.94      0.72        18\n",
      "          13       0.77      1.00      0.87        17\n",
      "          14       1.00      0.96      0.98        26\n",
      "          15       1.00      1.00      1.00        18\n",
      "          16       0.82      1.00      0.90        27\n",
      "          17       0.81      0.77      0.79        22\n",
      "          18       1.00      0.62      0.76        21\n",
      "          19       0.89      0.80      0.84        20\n",
      "          20       0.64      0.82      0.72        17\n",
      "          21       1.00      0.73      0.84        22\n",
      "          22       1.00      0.82      0.90        22\n",
      "          23       0.59      1.00      0.74        13\n",
      "\n",
      "    accuracy                           0.87       503\n",
      "   macro avg       0.89      0.87      0.86       503\n",
      "weighted avg       0.90      0.87      0.87       503\n",
      "\n"
     ]
    }
   ],
   "source": [
    "from sklearn.metrics import classification_report\n",
    "print(classification_report(y_test_, y_pred_vgg))"
   ]
  },
  {
   "cell_type": "code",
   "execution_count": 24,
   "id": "f6264b04",
   "metadata": {},
   "outputs": [
    {
     "name": "stdout",
     "output_type": "stream",
     "text": [
      "Confusion Matrix (Accuracy 0.8688)\n",
      "\n",
      "       Prediction\n",
      "Actual  0  1  2  3  4  5  6  7  8  9 10 11 12 13 14 15 16 17 18 19 20 21 22 23\n",
      "     0 17  0  0  0  0  0  0  0  0  0  0  0  2  0  0  0  0  1  0  0  0  0  0  2\n",
      "     1  0 24  0  0  0  0  0  0  0  0  0  0  0  0  0  0  0  0  0  0  0  0  0  0\n",
      "     2  0  0 27  0  0  0  0  0  0  0  0  0  0  0  0  0  0  0  0  0  0  0  0  0\n",
      "     3  0  0  0  7  0  0  0  0  0  6  0  0  0  0  0  0  2  0  0  0  4  0  0  0\n",
      "     4  0  0  0  0 24  0  0  0  0  0  0  0  0  0  0  0  0  0  0  0  0  0  0  0\n",
      "     5  0  0  0  0  0 17  0  0  0  0  0  0  1  0  0  0  1  0  0  2  0  0  0  0\n",
      "     6  0  0  0  0  0  0 21  0  0  0  0  0  0  0  0  0  0  0  0  0  0  0  0  0\n",
      "     7  0  0  0  0  0  0  3 17  0  0  0  0  0  0  0  0  0  0  0  0  0  0  0  0\n",
      "     8  0  0  0  0  0  0  0  0 15  0  0  0  0  2  0  0  0  0  0  0  0  0  0  6\n",
      "     9  0  0  0  0  0  0  0  0  0 25  0  0  0  0  0  0  0  0  0  0  0  0  0  0\n",
      "    10  0  0  0  0  0  0  0  0  0  0 19  0  0  0  0  0  0  0  0  0  0  0  0  0\n",
      "    11  0  0  0  0  0  0  0  0  0  0  0 13  2  0  0  0  0  0  0  0  0  0  0  0\n",
      "    12  0  0  0  0  0  0  0  0  0  0  0  1 17  0  0  0  0  0  0  0  0  0  0  0\n",
      "    13  0  0  0  0  0  0  0  0  0  0  0  0  0 17  0  0  0  0  0  0  0  0  0  0\n",
      "    14  0  0  1  0  0  0  0  0  0  0  0  0  0  0 25  0  0  0  0  0  0  0  0  0\n",
      "    15  0  0  0  0  0  0  0  0  0  0  0  0  0  0  0 18  0  0  0  0  0  0  0  0\n",
      "    16  0  0  0  0  0  0  0  0  0  0  0  0  0  0  0  0 27  0  0  0  0  0  0  0\n",
      "    17  0  0  0  0  0  0  0  0  0  0  0  1  4  0  0  0  0 17  0  0  0  0  0  0\n",
      "    18  2  0  0  0  0  0  0  0  0  0  0  0  3  0  0  0  0  3 13  0  0  0  0  0\n",
      "    19  0  0  0  0  0  0  0  0  0  1  0  0  0  0  0  0  3  0  0 16  0  0  0  0\n",
      "    20  0  0  0  0  0  0  0  0  0  3  0  0  0  0  0  0  0  0  0  0 14  0  0  0\n",
      "    21  0  0  0  0  0  0  0  0  0  1  0  0  0  0  0  0  0  0  0  0  4 16  0  1\n",
      "    22  0  0  0  0  0  0  1  0  0  0  0  0  0  3  0  0  0  0  0  0  0  0 18  0\n",
      "    23  0  0  0  0  0  0  0  0  0  0  0  0  0  0  0  0  0  0  0  0  0  0  0 13\n"
     ]
    }
   ],
   "source": [
    "from dmba import classificationSummary\n",
    "classificationSummary(y_test_, y_pred_vgg)"
   ]
  },
  {
   "cell_type": "markdown",
   "id": "1a0abac6",
   "metadata": {},
   "source": [
    "# Build my own model"
   ]
  },
  {
   "cell_type": "code",
   "execution_count": 25,
   "id": "7867e320",
   "metadata": {
    "scrolled": true
   },
   "outputs": [
    {
     "name": "stdout",
     "output_type": "stream",
     "text": [
      "Model: \"sequential\"\n",
      "_________________________________________________________________\n",
      "Layer (type)                 Output Shape              Param #   \n",
      "=================================================================\n",
      "conv2d (Conv2D)              (None, 64, 64, 32)        896       \n",
      "_________________________________________________________________\n",
      "max_pooling2d (MaxPooling2D) (None, 32, 32, 32)        0         \n",
      "_________________________________________________________________\n",
      "conv2d_1 (Conv2D)            (None, 32, 32, 32)        9248      \n",
      "_________________________________________________________________\n",
      "dropout_2 (Dropout)          (None, 32, 32, 32)        0         \n",
      "_________________________________________________________________\n",
      "max_pooling2d_1 (MaxPooling2 (None, 16, 16, 32)        0         \n",
      "_________________________________________________________________\n",
      "conv2d_2 (Conv2D)            (None, 16, 16, 64)        18496     \n",
      "_________________________________________________________________\n",
      "dropout_3 (Dropout)          (None, 16, 16, 64)        0         \n",
      "_________________________________________________________________\n",
      "max_pooling2d_2 (MaxPooling2 (None, 8, 8, 64)          0         \n",
      "_________________________________________________________________\n",
      "flatten_1 (Flatten)          (None, 4096)              0         \n",
      "_________________________________________________________________\n",
      "dense_3 (Dense)              (None, 256)               1048832   \n",
      "_________________________________________________________________\n",
      "dropout_4 (Dropout)          (None, 256)               0         \n",
      "_________________________________________________________________\n",
      "dense_4 (Dense)              (None, 24)                6168      \n",
      "=================================================================\n",
      "Total params: 1,083,640\n",
      "Trainable params: 1,083,640\n",
      "Non-trainable params: 0\n",
      "_________________________________________________________________\n"
     ]
    }
   ],
   "source": [
    "model = Sequential()\n",
    "\n",
    "# Step 1 - Convolution Layer\n",
    "model.add(Conv2D(filters=32, kernel_size=3, padding=\"same\", activation='relu', input_shape=(64, 64, 3)))\n",
    "\n",
    "# step 2 - Pooling\n",
    "model.add(MaxPooling2D(pool_size=2, strides=2, padding='same'))\n",
    "\n",
    "# Adding second convolution layer\n",
    "model.add(Conv2D(filters=32, kernel_size=3, padding=\"same\", activation='relu'))\n",
    "model.add(Dropout(0.5))\n",
    "model.add(MaxPooling2D(pool_size=2, strides=2, padding='same'))\n",
    "\n",
    "# Adding 3rd Convolution Layer\n",
    "model.add(Conv2D(filters=64, kernel_size=3, padding=\"same\", activation='relu'))\n",
    "model.add(Dropout(0.5))\n",
    "model.add(MaxPooling2D(pool_size=2, strides=2, padding='same'))\n",
    "\n",
    "# Step 3 - Flattening\n",
    "model.add(Flatten())\n",
    "\n",
    "# Step 4 - Full Connection\n",
    "model.add(Dense(256, activation='relu'))\n",
    "model.add(Dropout(0.5))\n",
    "model.add(Dense(24, activation='softmax'))\n",
    "               \n",
    "# Compiling The CNN\n",
    "model.compile(optimizer='adam', loss='categorical_crossentropy', metrics=['accuracy'])\n",
    "model.summary()"
   ]
  },
  {
   "cell_type": "code",
   "execution_count": 26,
   "id": "e7c21f26",
   "metadata": {},
   "outputs": [
    {
     "data": {
      "text/plain": [
       "(1172, 64, 64, 3)"
      ]
     },
     "execution_count": 26,
     "metadata": {},
     "output_type": "execute_result"
    }
   ],
   "source": [
    "X_train.shape"
   ]
  },
  {
   "cell_type": "code",
   "execution_count": 27,
   "id": "8df40d76",
   "metadata": {},
   "outputs": [
    {
     "name": "stdout",
     "output_type": "stream",
     "text": [
      "Epoch 1/10\n",
      "30/30 [==============================] - 3s 104ms/step - loss: 2.5780 - accuracy: 0.2199 - val_loss: 2.0705 - val_accuracy: 0.6936\n",
      "Epoch 2/10\n",
      "30/30 [==============================] - 3s 109ms/step - loss: 1.0823 - accuracy: 0.6457 - val_loss: 1.0430 - val_accuracy: 0.8766\n",
      "Epoch 3/10\n",
      "30/30 [==============================] - 3s 105ms/step - loss: 0.6131 - accuracy: 0.7866 - val_loss: 0.7503 - val_accuracy: 0.9064\n",
      "Epoch 4/10\n",
      "30/30 [==============================] - 3s 114ms/step - loss: 0.3880 - accuracy: 0.8666 - val_loss: 0.4300 - val_accuracy: 0.9532\n",
      "Epoch 5/10\n",
      "30/30 [==============================] - 3s 100ms/step - loss: 0.3025 - accuracy: 0.9018 - val_loss: 0.3877 - val_accuracy: 0.9489\n",
      "Epoch 6/10\n",
      "30/30 [==============================] - 3s 98ms/step - loss: 0.2892 - accuracy: 0.8954 - val_loss: 0.3834 - val_accuracy: 0.9617\n",
      "Epoch 7/10\n",
      "30/30 [==============================] - 3s 111ms/step - loss: 0.1923 - accuracy: 0.9296 - val_loss: 0.2439 - val_accuracy: 0.9574\n",
      "Epoch 8/10\n",
      "30/30 [==============================] - 3s 107ms/step - loss: 0.1321 - accuracy: 0.9520 - val_loss: 0.1794 - val_accuracy: 0.9745\n",
      "Epoch 9/10\n",
      "30/30 [==============================] - 3s 104ms/step - loss: 0.1464 - accuracy: 0.9573 - val_loss: 0.1826 - val_accuracy: 0.9915\n",
      "Epoch 10/10\n",
      "30/30 [==============================] - 3s 98ms/step - loss: 0.0790 - accuracy: 0.9712 - val_loss: 0.1111 - val_accuracy: 0.9957\n"
     ]
    }
   ],
   "source": [
    "#fitting the model\n",
    "history = model.fit(X_train, y_train, epochs=10, validation_split=0.2)"
   ]
  },
  {
   "cell_type": "code",
   "execution_count": 28,
   "id": "9da4296b",
   "metadata": {},
   "outputs": [],
   "source": [
    "# Saving the model\n",
    "model.save('my_model.h5')"
   ]
  },
  {
   "cell_type": "code",
   "execution_count": 29,
   "id": "fb247752",
   "metadata": {},
   "outputs": [
    {
     "data": {
      "image/png": "[encoded data removed]",
      "text/plain": [
       "<Figure size 432x288 with 1 Axes>"
      ]
     },
     "metadata": {
      "needs_background": "light"
     },
     "output_type": "display_data"
    }
   ],
   "source": [
    "plt.figure()\n",
    "plt.plot(history.history['accuracy'], label='training accuracy')\n",
    "plt.plot(history.history['val_accuracy'], label='val accuracy')\n",
    "plt.plot(history.history['loss'], label='training loss')\n",
    "plt.plot(history.history['val_loss'], label='val loss')\n",
    "plt.title('Loss/accuracy')\n",
    "plt.xlabel('epochs')\n",
    "plt.ylabel('Loss/accuracy')\n",
    "plt.legend()\n",
    "plt.show()"
   ]
  },
  {
   "cell_type": "code",
   "execution_count": 30,
   "id": "b618f782",
   "metadata": {},
   "outputs": [],
   "source": [
    "y_pred = np.argmax(model.predict(X_test), axis=1)"
   ]
  },
  {
   "cell_type": "code",
   "execution_count": 31,
   "id": "36370be3",
   "metadata": {},
   "outputs": [
    {
     "name": "stdout",
     "output_type": "stream",
     "text": [
      "the accuracy obtained on the test set is: 0.9681908548707754\n"
     ]
    }
   ],
   "source": [
    "from sklearn.metrics import accuracy_score\n",
    "print('the accuracy obtained on the test set is:', accuracy_score(y_test_, y_pred))"
   ]
  },
  {
   "cell_type": "code",
   "execution_count": 32,
   "id": "065793da",
   "metadata": {},
   "outputs": [
    {
     "name": "stdout",
     "output_type": "stream",
     "text": [
      "              precision    recall  f1-score   support\n",
      "\n",
      "           0       0.81      1.00      0.90        22\n",
      "           1       1.00      1.00      1.00        24\n",
      "           2       1.00      1.00      1.00        27\n",
      "           3       0.86      1.00      0.93        19\n",
      "           4       1.00      1.00      1.00        24\n",
      "           5       1.00      1.00      1.00        21\n",
      "           6       1.00      1.00      1.00        21\n",
      "           7       1.00      1.00      1.00        20\n",
      "           8       0.96      1.00      0.98        23\n",
      "           9       1.00      0.84      0.91        25\n",
      "          10       1.00      1.00      1.00        19\n",
      "          11       1.00      1.00      1.00        15\n",
      "          12       1.00      1.00      1.00        18\n",
      "          13       1.00      1.00      1.00        17\n",
      "          14       1.00      1.00      1.00        26\n",
      "          15       1.00      1.00      1.00        18\n",
      "          16       1.00      0.78      0.88        27\n",
      "          17       1.00      1.00      1.00        22\n",
      "          18       1.00      0.76      0.86        21\n",
      "          19       0.87      1.00      0.93        20\n",
      "          20       1.00      1.00      1.00        17\n",
      "          21       0.85      1.00      0.92        22\n",
      "          22       1.00      0.95      0.98        22\n",
      "          23       1.00      1.00      1.00        13\n",
      "\n",
      "    accuracy                           0.97       503\n",
      "   macro avg       0.97      0.97      0.97       503\n",
      "weighted avg       0.97      0.97      0.97       503\n",
      "\n"
     ]
    }
   ],
   "source": [
    "from sklearn.metrics import classification_report\n",
    "print(classification_report(y_test_, y_pred))"
   ]
  },
  {
   "cell_type": "code",
   "execution_count": 33,
   "id": "6e49227f",
   "metadata": {},
   "outputs": [
    {
     "name": "stdout",
     "output_type": "stream",
     "text": [
      "Confusion Matrix (Accuracy 0.9682)\n",
      "\n",
      "       Prediction\n",
      "Actual  0  1  2  3  4  5  6  7  8  9 10 11 12 13 14 15 16 17 18 19 20 21 22 23\n",
      "     0 22  0  0  0  0  0  0  0  0  0  0  0  0  0  0  0  0  0  0  0  0  0  0  0\n",
      "     1  0 24  0  0  0  0  0  0  0  0  0  0  0  0  0  0  0  0  0  0  0  0  0  0\n",
      "     2  0  0 27  0  0  0  0  0  0  0  0  0  0  0  0  0  0  0  0  0  0  0  0  0\n",
      "     3  0  0  0 19  0  0  0  0  0  0  0  0  0  0  0  0  0  0  0  0  0  0  0  0\n",
      "     4  0  0  0  0 24  0  0  0  0  0  0  0  0  0  0  0  0  0  0  0  0  0  0  0\n",
      "     5  0  0  0  0  0 21  0  0  0  0  0  0  0  0  0  0  0  0  0  0  0  0  0  0\n",
      "     6  0  0  0  0  0  0 21  0  0  0  0  0  0  0  0  0  0  0  0  0  0  0  0  0\n",
      "     7  0  0  0  0  0  0  0 20  0  0  0  0  0  0  0  0  0  0  0  0  0  0  0  0\n",
      "     8  0  0  0  0  0  0  0  0 23  0  0  0  0  0  0  0  0  0  0  0  0  0  0  0\n",
      "     9  0  0  0  0  0  0  0  0  0 21  0  0  0  0  0  0  0  0  0  0  0  4  0  0\n",
      "    10  0  0  0  0  0  0  0  0  0  0 19  0  0  0  0  0  0  0  0  0  0  0  0  0\n",
      "    11  0  0  0  0  0  0  0  0  0  0  0 15  0  0  0  0  0  0  0  0  0  0  0  0\n",
      "    12  0  0  0  0  0  0  0  0  0  0  0  0 18  0  0  0  0  0  0  0  0  0  0  0\n",
      "    13  0  0  0  0  0  0  0  0  0  0  0  0  0 17  0  0  0  0  0  0  0  0  0  0\n",
      "    14  0  0  0  0  0  0  0  0  0  0  0  0  0  0 26  0  0  0  0  0  0  0  0  0\n",
      "    15  0  0  0  0  0  0  0  0  0  0  0  0  0  0  0 18  0  0  0  0  0  0  0  0\n",
      "    16  0  0  0  3  0  0  0  0  0  0  0  0  0  0  0  0 21  0  0  3  0  0  0  0\n",
      "    17  0  0  0  0  0  0  0  0  0  0  0  0  0  0  0  0  0 22  0  0  0  0  0  0\n",
      "    18  5  0  0  0  0  0  0  0  0  0  0  0  0  0  0  0  0  0 16  0  0  0  0  0\n",
      "    19  0  0  0  0  0  0  0  0  0  0  0  0  0  0  0  0  0  0  0 20  0  0  0  0\n",
      "    20  0  0  0  0  0  0  0  0  0  0  0  0  0  0  0  0  0  0  0  0 17  0  0  0\n",
      "    21  0  0  0  0  0  0  0  0  0  0  0  0  0  0  0  0  0  0  0  0  0 22  0  0\n",
      "    22  0  0  0  0  0  0  0  0  1  0  0  0  0  0  0  0  0  0  0  0  0  0 21  0\n",
      "    23  0  0  0  0  0  0  0  0  0  0  0  0  0  0  0  0  0  0  0  0  0  0  0 13\n"
     ]
    }
   ],
   "source": [
    "from dmba import classificationSummary\n",
    "classificationSummary(y_test_, y_pred)"
   ]
  },
  {
   "cell_type": "code",
   "execution_count": null,
   "id": "f80f4989",
   "metadata": {},
   "outputs": [],
   "source": []
  },
  {
   "cell_type": "code",
   "execution_count": null,
   "id": "ddc56733",
   "metadata": {},
   "outputs": [],
   "source": []
  }
 ],
 "metadata": {
  "kernelspec": {
   "display_name": "Python 3 (ipykernel)",
   "language": "python",
   "name": "python3"
  },
  "language_info": {
   "codemirror_mode": {
    "name": "ipython",
    "version": 3
   },
   "file_extension": ".py",
   "mimetype": "text/x-python",
   "name": "python",
   "nbconvert_exporter": "python",
   "pygments_lexer": "ipython3",
   "version": "3.8.13"
  }
 },
 "nbformat": 4,
 "nbformat_minor": 5
}
